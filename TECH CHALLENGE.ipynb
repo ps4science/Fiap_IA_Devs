{
  "nbformat": 4,
  "nbformat_minor": 0,
  "metadata": {
    "colab": {
      "provenance": []
    },
    "kernelspec": {
      "name": "python3",
      "display_name": "Python 3"
    },
    "language_info": {
      "name": "python"
    }
  },
  "cells": [
    {
      "cell_type": "markdown",
      "source": [],
      "metadata": {
        "id": "LWDz-WyaX6xU"
      }
    },
    {
      "cell_type": "markdown",
      "source": [
        "# **INTRODUÇÃO**\n",
        "\n",
        "Diante da crescente necessidade de otimização na análise de dados, uma empresa do setor de saúde contratou um especialista para o desenvolvimento de um modelo preditivo de regressão. O objetivo deste projeto é prever os custos médicos individuais cobrados pelo seguro de saúde, fornecendo insights valiosos para a tomada de decisões mais precisas e eficientes na gestão dos planos de cobertura.\n",
        "\n",
        "Para a execução deste projeto, foi disponibilizada a base de dados a seguir:"
      ],
      "metadata": {
        "id": "kmWFwjsyX8mg"
      }
    },
    {
      "cell_type": "code",
      "execution_count": 1,
      "metadata": {
        "colab": {
          "base_uri": "https://localhost:8080/",
          "height": 206
        },
        "id": "8bvqVVIvXder",
        "outputId": "41cee4f1-87b6-43b0-f543-b39a7d39d925"
      },
      "outputs": [
        {
          "output_type": "execute_result",
          "data": {
            "text/plain": [
              "   age     sex     bmi  children smoker     region      charges\n",
              "0   19  female  27.900         0    yes  southwest  16884.92400\n",
              "1   18    male  33.770         1     no  southeast   1725.55230\n",
              "2   28    male  33.000         3     no  southeast   4449.46200\n",
              "3   33    male  22.705         0     no  northwest  21984.47061\n",
              "4   32    male  28.880         0     no  northwest   3866.85520"
            ],
            "text/html": [
              "\n",
              "  <div id=\"df-5b8014fe-dc71-408d-af0a-d6c302ecc0a1\" class=\"colab-df-container\">\n",
              "    <div>\n",
              "<style scoped>\n",
              "    .dataframe tbody tr th:only-of-type {\n",
              "        vertical-align: middle;\n",
              "    }\n",
              "\n",
              "    .dataframe tbody tr th {\n",
              "        vertical-align: top;\n",
              "    }\n",
              "\n",
              "    .dataframe thead th {\n",
              "        text-align: right;\n",
              "    }\n",
              "</style>\n",
              "<table border=\"1\" class=\"dataframe\">\n",
              "  <thead>\n",
              "    <tr style=\"text-align: right;\">\n",
              "      <th></th>\n",
              "      <th>age</th>\n",
              "      <th>sex</th>\n",
              "      <th>bmi</th>\n",
              "      <th>children</th>\n",
              "      <th>smoker</th>\n",
              "      <th>region</th>\n",
              "      <th>charges</th>\n",
              "    </tr>\n",
              "  </thead>\n",
              "  <tbody>\n",
              "    <tr>\n",
              "      <th>0</th>\n",
              "      <td>19</td>\n",
              "      <td>female</td>\n",
              "      <td>27.900</td>\n",
              "      <td>0</td>\n",
              "      <td>yes</td>\n",
              "      <td>southwest</td>\n",
              "      <td>16884.92400</td>\n",
              "    </tr>\n",
              "    <tr>\n",
              "      <th>1</th>\n",
              "      <td>18</td>\n",
              "      <td>male</td>\n",
              "      <td>33.770</td>\n",
              "      <td>1</td>\n",
              "      <td>no</td>\n",
              "      <td>southeast</td>\n",
              "      <td>1725.55230</td>\n",
              "    </tr>\n",
              "    <tr>\n",
              "      <th>2</th>\n",
              "      <td>28</td>\n",
              "      <td>male</td>\n",
              "      <td>33.000</td>\n",
              "      <td>3</td>\n",
              "      <td>no</td>\n",
              "      <td>southeast</td>\n",
              "      <td>4449.46200</td>\n",
              "    </tr>\n",
              "    <tr>\n",
              "      <th>3</th>\n",
              "      <td>33</td>\n",
              "      <td>male</td>\n",
              "      <td>22.705</td>\n",
              "      <td>0</td>\n",
              "      <td>no</td>\n",
              "      <td>northwest</td>\n",
              "      <td>21984.47061</td>\n",
              "    </tr>\n",
              "    <tr>\n",
              "      <th>4</th>\n",
              "      <td>32</td>\n",
              "      <td>male</td>\n",
              "      <td>28.880</td>\n",
              "      <td>0</td>\n",
              "      <td>no</td>\n",
              "      <td>northwest</td>\n",
              "      <td>3866.85520</td>\n",
              "    </tr>\n",
              "  </tbody>\n",
              "</table>\n",
              "</div>\n",
              "    <div class=\"colab-df-buttons\">\n",
              "\n",
              "  <div class=\"colab-df-container\">\n",
              "    <button class=\"colab-df-convert\" onclick=\"convertToInteractive('df-5b8014fe-dc71-408d-af0a-d6c302ecc0a1')\"\n",
              "            title=\"Convert this dataframe to an interactive table.\"\n",
              "            style=\"display:none;\">\n",
              "\n",
              "  <svg xmlns=\"http://www.w3.org/2000/svg\" height=\"24px\" viewBox=\"0 -960 960 960\">\n",
              "    <path d=\"M120-120v-720h720v720H120Zm60-500h600v-160H180v160Zm220 220h160v-160H400v160Zm0 220h160v-160H400v160ZM180-400h160v-160H180v160Zm440 0h160v-160H620v160ZM180-180h160v-160H180v160Zm440 0h160v-160H620v160Z\"/>\n",
              "  </svg>\n",
              "    </button>\n",
              "\n",
              "  <style>\n",
              "    .colab-df-container {\n",
              "      display:flex;\n",
              "      gap: 12px;\n",
              "    }\n",
              "\n",
              "    .colab-df-convert {\n",
              "      background-color: #E8F0FE;\n",
              "      border: none;\n",
              "      border-radius: 50%;\n",
              "      cursor: pointer;\n",
              "      display: none;\n",
              "      fill: #1967D2;\n",
              "      height: 32px;\n",
              "      padding: 0 0 0 0;\n",
              "      width: 32px;\n",
              "    }\n",
              "\n",
              "    .colab-df-convert:hover {\n",
              "      background-color: #E2EBFA;\n",
              "      box-shadow: 0px 1px 2px rgba(60, 64, 67, 0.3), 0px 1px 3px 1px rgba(60, 64, 67, 0.15);\n",
              "      fill: #174EA6;\n",
              "    }\n",
              "\n",
              "    .colab-df-buttons div {\n",
              "      margin-bottom: 4px;\n",
              "    }\n",
              "\n",
              "    [theme=dark] .colab-df-convert {\n",
              "      background-color: #3B4455;\n",
              "      fill: #D2E3FC;\n",
              "    }\n",
              "\n",
              "    [theme=dark] .colab-df-convert:hover {\n",
              "      background-color: #434B5C;\n",
              "      box-shadow: 0px 1px 3px 1px rgba(0, 0, 0, 0.15);\n",
              "      filter: drop-shadow(0px 1px 2px rgba(0, 0, 0, 0.3));\n",
              "      fill: #FFFFFF;\n",
              "    }\n",
              "  </style>\n",
              "\n",
              "    <script>\n",
              "      const buttonEl =\n",
              "        document.querySelector('#df-5b8014fe-dc71-408d-af0a-d6c302ecc0a1 button.colab-df-convert');\n",
              "      buttonEl.style.display =\n",
              "        google.colab.kernel.accessAllowed ? 'block' : 'none';\n",
              "\n",
              "      async function convertToInteractive(key) {\n",
              "        const element = document.querySelector('#df-5b8014fe-dc71-408d-af0a-d6c302ecc0a1');\n",
              "        const dataTable =\n",
              "          await google.colab.kernel.invokeFunction('convertToInteractive',\n",
              "                                                    [key], {});\n",
              "        if (!dataTable) return;\n",
              "\n",
              "        const docLinkHtml = 'Like what you see? Visit the ' +\n",
              "          '<a target=\"_blank\" href=https://colab.research.google.com/notebooks/data_table.ipynb>data table notebook</a>'\n",
              "          + ' to learn more about interactive tables.';\n",
              "        element.innerHTML = '';\n",
              "        dataTable['output_type'] = 'display_data';\n",
              "        await google.colab.output.renderOutput(dataTable, element);\n",
              "        const docLink = document.createElement('div');\n",
              "        docLink.innerHTML = docLinkHtml;\n",
              "        element.appendChild(docLink);\n",
              "      }\n",
              "    </script>\n",
              "  </div>\n",
              "\n",
              "\n",
              "<div id=\"df-617c2cb3-4752-48ba-93dd-f0d59357b5c5\">\n",
              "  <button class=\"colab-df-quickchart\" onclick=\"quickchart('df-617c2cb3-4752-48ba-93dd-f0d59357b5c5')\"\n",
              "            title=\"Suggest charts\"\n",
              "            style=\"display:none;\">\n",
              "\n",
              "<svg xmlns=\"http://www.w3.org/2000/svg\" height=\"24px\"viewBox=\"0 0 24 24\"\n",
              "     width=\"24px\">\n",
              "    <g>\n",
              "        <path d=\"M19 3H5c-1.1 0-2 .9-2 2v14c0 1.1.9 2 2 2h14c1.1 0 2-.9 2-2V5c0-1.1-.9-2-2-2zM9 17H7v-7h2v7zm4 0h-2V7h2v10zm4 0h-2v-4h2v4z\"/>\n",
              "    </g>\n",
              "</svg>\n",
              "  </button>\n",
              "\n",
              "<style>\n",
              "  .colab-df-quickchart {\n",
              "      --bg-color: #E8F0FE;\n",
              "      --fill-color: #1967D2;\n",
              "      --hover-bg-color: #E2EBFA;\n",
              "      --hover-fill-color: #174EA6;\n",
              "      --disabled-fill-color: #AAA;\n",
              "      --disabled-bg-color: #DDD;\n",
              "  }\n",
              "\n",
              "  [theme=dark] .colab-df-quickchart {\n",
              "      --bg-color: #3B4455;\n",
              "      --fill-color: #D2E3FC;\n",
              "      --hover-bg-color: #434B5C;\n",
              "      --hover-fill-color: #FFFFFF;\n",
              "      --disabled-bg-color: #3B4455;\n",
              "      --disabled-fill-color: #666;\n",
              "  }\n",
              "\n",
              "  .colab-df-quickchart {\n",
              "    background-color: var(--bg-color);\n",
              "    border: none;\n",
              "    border-radius: 50%;\n",
              "    cursor: pointer;\n",
              "    display: none;\n",
              "    fill: var(--fill-color);\n",
              "    height: 32px;\n",
              "    padding: 0;\n",
              "    width: 32px;\n",
              "  }\n",
              "\n",
              "  .colab-df-quickchart:hover {\n",
              "    background-color: var(--hover-bg-color);\n",
              "    box-shadow: 0 1px 2px rgba(60, 64, 67, 0.3), 0 1px 3px 1px rgba(60, 64, 67, 0.15);\n",
              "    fill: var(--button-hover-fill-color);\n",
              "  }\n",
              "\n",
              "  .colab-df-quickchart-complete:disabled,\n",
              "  .colab-df-quickchart-complete:disabled:hover {\n",
              "    background-color: var(--disabled-bg-color);\n",
              "    fill: var(--disabled-fill-color);\n",
              "    box-shadow: none;\n",
              "  }\n",
              "\n",
              "  .colab-df-spinner {\n",
              "    border: 2px solid var(--fill-color);\n",
              "    border-color: transparent;\n",
              "    border-bottom-color: var(--fill-color);\n",
              "    animation:\n",
              "      spin 1s steps(1) infinite;\n",
              "  }\n",
              "\n",
              "  @keyframes spin {\n",
              "    0% {\n",
              "      border-color: transparent;\n",
              "      border-bottom-color: var(--fill-color);\n",
              "      border-left-color: var(--fill-color);\n",
              "    }\n",
              "    20% {\n",
              "      border-color: transparent;\n",
              "      border-left-color: var(--fill-color);\n",
              "      border-top-color: var(--fill-color);\n",
              "    }\n",
              "    30% {\n",
              "      border-color: transparent;\n",
              "      border-left-color: var(--fill-color);\n",
              "      border-top-color: var(--fill-color);\n",
              "      border-right-color: var(--fill-color);\n",
              "    }\n",
              "    40% {\n",
              "      border-color: transparent;\n",
              "      border-right-color: var(--fill-color);\n",
              "      border-top-color: var(--fill-color);\n",
              "    }\n",
              "    60% {\n",
              "      border-color: transparent;\n",
              "      border-right-color: var(--fill-color);\n",
              "    }\n",
              "    80% {\n",
              "      border-color: transparent;\n",
              "      border-right-color: var(--fill-color);\n",
              "      border-bottom-color: var(--fill-color);\n",
              "    }\n",
              "    90% {\n",
              "      border-color: transparent;\n",
              "      border-bottom-color: var(--fill-color);\n",
              "    }\n",
              "  }\n",
              "</style>\n",
              "\n",
              "  <script>\n",
              "    async function quickchart(key) {\n",
              "      const quickchartButtonEl =\n",
              "        document.querySelector('#' + key + ' button');\n",
              "      quickchartButtonEl.disabled = true;  // To prevent multiple clicks.\n",
              "      quickchartButtonEl.classList.add('colab-df-spinner');\n",
              "      try {\n",
              "        const charts = await google.colab.kernel.invokeFunction(\n",
              "            'suggestCharts', [key], {});\n",
              "      } catch (error) {\n",
              "        console.error('Error during call to suggestCharts:', error);\n",
              "      }\n",
              "      quickchartButtonEl.classList.remove('colab-df-spinner');\n",
              "      quickchartButtonEl.classList.add('colab-df-quickchart-complete');\n",
              "    }\n",
              "    (() => {\n",
              "      let quickchartButtonEl =\n",
              "        document.querySelector('#df-617c2cb3-4752-48ba-93dd-f0d59357b5c5 button');\n",
              "      quickchartButtonEl.style.display =\n",
              "        google.colab.kernel.accessAllowed ? 'block' : 'none';\n",
              "    })();\n",
              "  </script>\n",
              "</div>\n",
              "\n",
              "    </div>\n",
              "  </div>\n"
            ],
            "application/vnd.google.colaboratory.intrinsic+json": {
              "type": "dataframe",
              "variable_name": "insurance_data",
              "summary": "{\n  \"name\": \"insurance_data\",\n  \"rows\": 1338,\n  \"fields\": [\n    {\n      \"column\": \"age\",\n      \"properties\": {\n        \"dtype\": \"number\",\n        \"std\": 14,\n        \"min\": 18,\n        \"max\": 64,\n        \"num_unique_values\": 47,\n        \"samples\": [\n          21,\n          45,\n          36\n        ],\n        \"semantic_type\": \"\",\n        \"description\": \"\"\n      }\n    },\n    {\n      \"column\": \"sex\",\n      \"properties\": {\n        \"dtype\": \"category\",\n        \"num_unique_values\": 2,\n        \"samples\": [\n          \"male\",\n          \"female\"\n        ],\n        \"semantic_type\": \"\",\n        \"description\": \"\"\n      }\n    },\n    {\n      \"column\": \"bmi\",\n      \"properties\": {\n        \"dtype\": \"number\",\n        \"std\": 6.098186911679017,\n        \"min\": 15.96,\n        \"max\": 53.13,\n        \"num_unique_values\": 548,\n        \"samples\": [\n          23.18,\n          26.885\n        ],\n        \"semantic_type\": \"\",\n        \"description\": \"\"\n      }\n    },\n    {\n      \"column\": \"children\",\n      \"properties\": {\n        \"dtype\": \"number\",\n        \"std\": 1,\n        \"min\": 0,\n        \"max\": 5,\n        \"num_unique_values\": 6,\n        \"samples\": [\n          0,\n          1\n        ],\n        \"semantic_type\": \"\",\n        \"description\": \"\"\n      }\n    },\n    {\n      \"column\": \"smoker\",\n      \"properties\": {\n        \"dtype\": \"category\",\n        \"num_unique_values\": 2,\n        \"samples\": [\n          \"no\",\n          \"yes\"\n        ],\n        \"semantic_type\": \"\",\n        \"description\": \"\"\n      }\n    },\n    {\n      \"column\": \"region\",\n      \"properties\": {\n        \"dtype\": \"category\",\n        \"num_unique_values\": 4,\n        \"samples\": [\n          \"southeast\",\n          \"northeast\"\n        ],\n        \"semantic_type\": \"\",\n        \"description\": \"\"\n      }\n    },\n    {\n      \"column\": \"charges\",\n      \"properties\": {\n        \"dtype\": \"number\",\n        \"std\": 12110.011236693994,\n        \"min\": 1121.8739,\n        \"max\": 63770.42801,\n        \"num_unique_values\": 1337,\n        \"samples\": [\n          8688.85885,\n          5708.867\n        ],\n        \"semantic_type\": \"\",\n        \"description\": \"\"\n      }\n    }\n  ]\n}"
            }
          },
          "metadata": {},
          "execution_count": 1
        }
      ],
      "source": [
        "import pandas as pd\n",
        "insurance_data = pd.read_csv('datasets/insurance.csv')\n",
        "insurance_data.head()"
      ]
    },
    {
      "cell_type": "markdown",
      "source": [
        "Esta base de dados é composta por sete colunas, conforme descritas abaixo:\n",
        "\n",
        "**Age:** Idade do cliente;\n",
        "\n",
        "**Sex:** Sexo do cliente;\n",
        "\n",
        "**BMI:** Índice de Massa Corporal (IMC) do cliente;\n",
        "\n",
        "**Children:** Quantidade de filhos do cliente;\n",
        "\n",
        "**Smoker:** Indica se o cliente é fumante ou não;\n",
        "\n",
        "**Region:** Região geográfica de residência do cliente;\n",
        "\n",
        "**Charges:** Valor do custo do seguro de saúde para o cliente."
      ],
      "metadata": {
        "id": "pRllU0a9bu1P"
      }
    },
    {
      "cell_type": "markdown",
      "source": [
        "# **FLUXO DO DESENVOLVIMENTO**\n",
        "\n",
        "Para a construção do modelo preditivo, o seguinte fluxo de trabalho será adotado:\n",
        "\n",
        "**Exploração de Dados -> Pré-Processamento de Dados -> Modelagem -> Treinamento e Avaliação do Modelo -> Validações Estatísticas**"
      ],
      "metadata": {
        "id": "njSzhnbScUfd"
      }
    },
    {
      "cell_type": "markdown",
      "source": [
        "# **EXPLORAÇÃO DOS DADOS**\n",
        "\n",
        "Inicialmente, é necessário realizar uma análise exploratória dos dados, incluindo a avaliação de estatísticas descritivas e a visualização das distribuições. Esse processo permitirá identificar as variáveis mais relevantes para o desenvolvimento do modelo.\n",
        "\n",
        "No entanto, todas as colunas serão consideradas importantes em um primeiro momento. Durante o Pré-Processamento de Dados, variáveis poderão ser descartadas caso se revelem irrelevantes ou redundantes para a construção do modelo preditivo.\n",
        "\n",
        "Com isso em mente, a seguir serão exibidos as principais informações do Data Set:"
      ],
      "metadata": {
        "id": "_UcpOxhEdfNj"
      }
    },
    {
      "cell_type": "code",
      "source": [
        "print(insurance_data.info())"
      ],
      "metadata": {
        "colab": {
          "base_uri": "https://localhost:8080/"
        },
        "id": "ApWyDH5Xhrfw",
        "outputId": "c2835dcb-c516-4d3d-dd8d-0b251b74b1a8"
      },
      "execution_count": 2,
      "outputs": [
        {
          "output_type": "stream",
          "name": "stdout",
          "text": [
            "<class 'pandas.core.frame.DataFrame'>\n",
            "RangeIndex: 1338 entries, 0 to 1337\n",
            "Data columns (total 7 columns):\n",
            " #   Column    Non-Null Count  Dtype  \n",
            "---  ------    --------------  -----  \n",
            " 0   age       1338 non-null   int64  \n",
            " 1   sex       1338 non-null   object \n",
            " 2   bmi       1338 non-null   float64\n",
            " 3   children  1338 non-null   int64  \n",
            " 4   smoker    1338 non-null   object \n",
            " 5   region    1338 non-null   object \n",
            " 6   charges   1338 non-null   float64\n",
            "dtypes: float64(2), int64(2), object(3)\n",
            "memory usage: 73.3+ KB\n",
            "None\n"
          ]
        }
      ]
    },
    {
      "cell_type": "markdown",
      "source": [
        "A função `info()` fornece um resumo das características do *data set*, incluindo:\n",
        "\n",
        "- **1338 registros** e **7 colunas**;\n",
        "- Presença de três variáveis categóricas: **sex** (sexo), **smoker** (se o cliente é fumante) e **region** (região geográfica);\n",
        "- Não há valores nulos em nenhuma das colunas, o que evita a necessidade de tratamento de valores ausentes."
      ],
      "metadata": {
        "id": "Gv9kx7PeNj09"
      }
    },
    {
      "cell_type": "code",
      "source": [
        "print(insurance_data.describe())"
      ],
      "metadata": {
        "colab": {
          "base_uri": "https://localhost:8080/"
        },
        "id": "g84p9uX1Zr16",
        "outputId": "ef34de93-4730-4747-b2fe-2f09ff633d98"
      },
      "execution_count": 3,
      "outputs": [
        {
          "output_type": "stream",
          "name": "stdout",
          "text": [
            "               age          bmi     children       charges\n",
            "count  1338.000000  1338.000000  1338.000000   1338.000000\n",
            "mean     39.207025    30.663397     1.094918  13270.422265\n",
            "std      14.049960     6.098187     1.205493  12110.011237\n",
            "min      18.000000    15.960000     0.000000   1121.873900\n",
            "25%      27.000000    26.296250     0.000000   4740.287150\n",
            "50%      39.000000    30.400000     1.000000   9382.033000\n",
            "75%      51.000000    34.693750     2.000000  16639.912515\n",
            "max      64.000000    53.130000     5.000000  63770.428010\n"
          ]
        }
      ]
    },
    {
      "cell_type": "markdown",
      "source": [
        "A função `describe()` apresenta estatísticas descritivas das variáveis numéricas, fornecendo insights como:\n",
        "\n",
        "- **Age**: Idade média dos clientes é 39 anos, com uma distribuição entre 18 e 64 anos;\n",
        "- **BMI**: O Índice de Massa Corporal (IMC) médio é 30.66, variando de 15.96 a 53.13, indicando possíveis outliers ou casos de obesidade;\n",
        "- **Children**: A maioria dos clientes possui até 2 filhos, com uma média de 1.09 filhos;\n",
        "- **Charges**: Os custos do seguro variam amplamente, com uma média de 13.270 e um valor máximo de 63.770, sugerindo a presença de outliers que podem estar associados a clientes com características específicas, como fumantes.\n",
        "\n",
        "Essas análises iniciais ajudam a identificar padrões, correlações entre variáveis e potenciais outliers que podem influenciar os resultados do modelo preditivo."
      ],
      "metadata": {
        "id": "uNI02ZZ_Nzrj"
      }
    },
    {
      "cell_type": "markdown",
      "source": [
        "## **Matriz de Correlação**\n",
        "Uma matriz de correlação é uma ferramenta estatística que permite analisar a força e a direção das relações entre variáveis numéricas de um conjunto de dados.\n",
        "\n",
        "Ela organiza os coeficientes de correlação de Pearson em uma tabela, facilitando a interpretação de associações significativas entre as variáveis.\n",
        "\n",
        "O coeficiente de Pearson varia de -1 a 1, onde valores próximos de 1 indicam uma forte correlação positiva (quando uma variável aumenta, a outra também tende a aumentar), e valores próximos de -1 indicam uma forte correlação negativa (quando uma variável aumenta, a outra tende a diminuir).\n",
        "\n",
        "Essa análise ajuda a identificar padrões importantes e a selecionar as variáveis mais relevantes para o desenvolvimento do modelo preditivo.\n",
        "\n",
        "Para calcular e visualizar a matriz de correlação nesta base de dados, é possível utilizar o seguinte código:\n",
        "\n"
      ],
      "metadata": {
        "id": "Mw8WS3vMPP78"
      }
    },
    {
      "cell_type": "code",
      "source": [
        "import seaborn as sns\n",
        "import matplotlib.pyplot as plt\n",
        "\n",
        "# Filtrar apenas as colunas numéricas para gerar a matriz de correlação\n",
        "insurance_data_numeric = insurance_data.select_dtypes(include=['float64', 'int64'])\n",
        "\n",
        "# Gerar a matriz de correlação\n",
        "correlation_matrix = insurance_data_numeric.corr()\n",
        "\n",
        "# Plotar o heatmap da matriz de correlação\n",
        "plt.figure(figsize=(8, 6))\n",
        "sns.heatmap(correlation_matrix, annot=True, cmap='coolwarm', linewidths=0.5)\n",
        "plt.title('Matriz de Correlação')\n",
        "plt.show()"
      ],
      "metadata": {
        "colab": {
          "base_uri": "https://localhost:8080/",
          "height": 545
        },
        "id": "Erpo-kqtPfwc",
        "outputId": "b008abf2-8bed-40a1-ccb1-b1a71070f098"
      },
      "execution_count": 4,
      "outputs": [
        {
          "output_type": "display_data",
          "data": {
            "text/plain": [
              "<Figure size 800x600 with 2 Axes>"
            ],
            "image/png": "[encoded data removed]"
          },
          "metadata": {}
        }
      ]
    },
    {
      "cell_type": "markdown",
      "source": [
        "Com base nessa matriz de correlação, é possível ter insights como:\n",
        "\n",
        "1. **Idade e Custos do Seguro**: Uma correlação positiva entre **age** (idade) e **charges** (custos do seguro) sugere que, à medida que os clientes envelhecem, o custo do seguro tende a aumentar. Isso reflete o risco crescente de problemas de saúde em idades mais avançadas, o que influencia diretamente o valor cobrado.\n",
        "\n",
        "2. **BMI e Custos do Seguro**: Uma correlação positiva entre **bmi** (Índice de Massa Corporal) e **charges**, indica que clientes com maior IMC enfrentam custos mais altos de seguro, devido ao aumento do risco de condições de saúde relacionadas ao peso, como diabetes e doenças cardíacas.\n",
        "\n",
        "3. **Número de Filhos e Custos**: A coluna **children** (número de filhos) apresenta uma correlação mais fraca com **charges**, indicando que o número de dependentes pode ter uma influência limitada sobre os custos do seguro, mas ainda pode ser relevante dependendo da política de cada seguradora.\n",
        "\n",
        "4. **Idade e BMI**: A correlação entre **age** e **bmi** é baixa, sugerindo que a idade dos clientes e o IMC não estão fortemente relacionados, indicando uma diversidade no perfil de saúde entre diferentes faixas etárias.\n",
        "\n",
        "Esses insights ajudam a identificar as variáveis que têm maior impacto nos custos do seguro, orientando as próximas etapas no desenvolvimento do modelo preditivo.\n"
      ],
      "metadata": {
        "id": "1PbG5IG-Pl_s"
      }
    },
    {
      "cell_type": "markdown",
      "source": [
        "## **Visualização de Outliers**\n",
        "A análise de outliers é uma etapa fundamental no pré-processamento de dados, pois esses valores extremos podem influenciar negativamente o desempenho dos modelos preditivos, especialmente em métodos baseados em regressão.\n",
        "\n",
        "Outliers representam dados atípicos que se desviam substancialmente do padrão da amostra e podem surgir por erros de coleta ou devido a fenômenos naturais que afetam as variáveis analisadas.\n",
        "\n",
        "Para identificar a presença de outliers na variável charges, utilizamos um boxplot, que é uma representação gráfica eficiente para visualizar a distribuição dos dados e destacar valores atípicos.\n",
        "\n",
        "Abaixo, é aplicado esse método ao conjunto de dados:"
      ],
      "metadata": {
        "id": "VLw_gxcWJBJ0"
      }
    },
    {
      "cell_type": "code",
      "source": [
        "import seaborn as sns\n",
        "import matplotlib.pyplot as plt\n",
        "\n",
        "# Boxplot para verificar a presença de outliers em 'charges'\n",
        "sns.boxplot(insurance_data['charges'])\n",
        "plt.show()"
      ],
      "metadata": {
        "id": "-_RFafQiJLpQ",
        "colab": {
          "base_uri": "https://localhost:8080/",
          "height": 411
        },
        "outputId": "b762c030-4bc0-4183-c88b-0a3470404e2f"
      },
      "execution_count": 5,
      "outputs": [
        {
          "output_type": "display_data",
          "data": {
            "text/plain": [
              "<Figure size 640x480 with 1 Axes>"
            ],
            "image/png": "[encoded data removed]"
          },
          "metadata": {}
        }
      ]
    },
    {
      "cell_type": "markdown",
      "source": [
        "Este boxplot revela que a coluna `charges` apresenta uma distribuição com vários outliers, principalmente em valores mais altos. Esses outliers indicam que alguns indivíduos no conjunto de dados têm custos de seguro substancialmente maiores que a maioria dos outros.\n",
        "\n",
        "Além disso, é possível ter insights como:\n",
        "\n",
        "1. **Distribuição assimétrica:** A presença de valores extremos na faixa superior sugere uma distribuição assimétrica, possivelmente relacionada a variáveis específicas (como idade, hábito de fumar ou IMC elevado).\n",
        "2. **Impacto nos modelos de regressão:** Esses outliers podem influenciar negativamente a performance de modelos de regressão linear simples, introduzindo um viés e aumentando o erro médio quadrático (MSE) do modelo.\n",
        "3. **Possíveis categorias de análise:** Dados os valores extremos, pode ser interessante analisar em detalhes quem são os indivíduos que possuem esses custos altos. Se estiverem associados, por exemplo, ao status de fumante, isso justificaria um modelo que trate essas variáveis de forma não linear ou com segmentação específica.\n",
        "\n",
        "Esses pontos indicam que técnicas de regularização, transformação ou, em casos específicos, a remoção desses outliers podem ser consideradas para melhorar a robustez do modelo.\n"
      ],
      "metadata": {
        "id": "CqiTJYOPW9TD"
      }
    },
    {
      "cell_type": "markdown",
      "source": [
        "# **PRÉ-PROCESSAMENTO DE DADOS**\n",
        "\n",
        "A partir dessa exploração de dados, é possível identificar alguns pontos que merecem atenção, cujos quais serão abordados a seguir:\n",
        "\n",
        "\n"
      ],
      "metadata": {
        "id": "8x0N1Ms9e-YS"
      }
    },
    {
      "cell_type": "markdown",
      "source": [
        "## **Tratamento de Valores Nulos**\n",
        "\n",
        "O primeiro aspecto a ser tratado são os valores nulos presentes no conjunto de dados. Esses valores podem comprometer a precisão dos resultados ao introduzir vieses indesejados.\n",
        "\n",
        "\n",
        "Para mitigar esse risco, será necessário remover os registros que contêm valores nulos da amostra, conforme descrito abaixo:"
      ],
      "metadata": {
        "id": "C68yoyq2TPgf"
      }
    },
    {
      "cell_type": "code",
      "source": [
        "insurance_data_cleaned = insurance_data.dropna()"
      ],
      "metadata": {
        "id": "NfAoP7y2fjZS"
      },
      "execution_count": 6,
      "outputs": []
    },
    {
      "cell_type": "markdown",
      "source": [
        "## **Tratamento de Valores Textuais**\n",
        "\n",
        "Outro desafio comum no desenvolvimento de modelos preditivos é a presença de valores textuais (categóricos).\n",
        "\n",
        "Esses valores podem impactar diretamente os cálculos realizados pelos algoritmos, uma vez que dados textuais não podem ser processados diretamente por métodos matemáticos.\n",
        "\n",
        "Para contornar esse problema, é necessário transformar os valores categóricos em valores numéricos.\n",
        "\n",
        "Uma das técnicas mais eficazes para essa conversão é o One-Hot Encoding, que cria uma nova coluna para cada categoria presente no dado original.\n",
        "\n",
        "Nessas novas colunas, são atribuídos os valores \"1\" ou \"0\" para indicar a presença ou ausência de determinada categoria em cada registro, permitindo que os algoritmos tratem essas informações adequadamente.\n",
        "\n",
        "Essa técnica pode ser implementada da seguinte forma:\n"
      ],
      "metadata": {
        "id": "RmpluPzKgst7"
      }
    },
    {
      "cell_type": "code",
      "source": [
        "insurance_data_encoded = pd.get_dummies(insurance_data_cleaned, columns=['sex', 'smoker', 'region'], drop_first=True)\n",
        "insurance_data_encoded = insurance_data_encoded.astype(float)\n",
        "print(insurance_data_encoded.head())"
      ],
      "metadata": {
        "colab": {
          "base_uri": "https://localhost:8080/"
        },
        "id": "3HziMtNGgsAV",
        "outputId": "36b8bb24-f0c3-4f9d-a2ef-6d946eee3325"
      },
      "execution_count": 7,
      "outputs": [
        {
          "output_type": "stream",
          "name": "stdout",
          "text": [
            "    age     bmi  children      charges  sex_male  smoker_yes  \\\n",
            "0  19.0  27.900       0.0  16884.92400       0.0         1.0   \n",
            "1  18.0  33.770       1.0   1725.55230       1.0         0.0   \n",
            "2  28.0  33.000       3.0   4449.46200       1.0         0.0   \n",
            "3  33.0  22.705       0.0  21984.47061       1.0         0.0   \n",
            "4  32.0  28.880       0.0   3866.85520       1.0         0.0   \n",
            "\n",
            "   region_northwest  region_southeast  region_southwest  \n",
            "0               0.0               0.0               1.0  \n",
            "1               0.0               1.0               0.0  \n",
            "2               0.0               1.0               0.0  \n",
            "3               1.0               0.0               0.0  \n",
            "4               1.0               0.0               0.0  \n"
          ]
        }
      ]
    },
    {
      "cell_type": "markdown",
      "source": [
        "## **Estratificação da Amostra com Base em Determinada Variável**\n",
        "\n",
        "Outro ponto importante é garantir que o conjunto de dados de treino e teste mantenha a distribuição adequada das variáveis relevantes, como a idade. Para isso, é possível usar uma técnica chamada \"Estratificação\".\n",
        "\n",
        "Esse procedimento divide o *dataset* em dois conjuntos: treino (80%) e teste (20%), garantindo que a distribuição de idades seja preservada em ambos.\n",
        "\n",
        "A estratificação é essencial quando se lida com variáveis que podem influenciar significativamente os resultados do modelo.\n",
        "\n",
        "Ao aplicar esse método na variável \"idade\", é possível evitar o risco de que certas faixas etárias fiquem desproporcionalmente representadas em um dos conjuntos, o que poderia levar a vieses durante o treinamento e a avaliação do modelo.\n",
        "\n",
        "A seguir, está um exemplo de estratificação com base na variável idade, assegurando que as proporções de faixas etárias sejam mantidas em ambos os conjuntos de treino e teste:"
      ],
      "metadata": {
        "id": "jii5LYSiTZve"
      }
    },
    {
      "cell_type": "code",
      "source": [
        "from sklearn.model_selection import StratifiedShuffleSplit\n",
        "\n",
        "split = StratifiedShuffleSplit(n_splits=1, test_size=0.2, random_state=42)\n",
        "for train_index, test_index in split.split(insurance_data_encoded, insurance_data_encoded[\"age\"]):\n",
        "    strat_train_set = insurance_data_encoded.loc[train_index]\n",
        "    strat_test_set = insurance_data_encoded.loc[test_index]"
      ],
      "metadata": {
        "id": "776Ktw62TvGn"
      },
      "execution_count": 8,
      "outputs": []
    },
    {
      "cell_type": "markdown",
      "source": [
        "## **Separação de Dados para Treino e Teste**\n",
        "\n",
        "Além disso, também é essencial separar o dataset em dois subconjuntos: treino e teste.\n",
        "\n",
        "O conjunto de treino será utilizado para ajustar o modelo, permitindo que ele \"aprenda\" os padrões presentes nos dados.\n",
        "\n",
        "Já o conjunto de teste será reservado para avaliar o desempenho do modelo, garantindo que ele generalize bem para dados que ainda não foram vistos.\n",
        "\n",
        "Neste caso, a variável dependente que o modelo deve prever é o charges (custo do seguro). As variáveis independentes, que serão utilizadas como entrada para o modelo, incluem todas as outras colunas restantes após o pré-processamento realizado.\n",
        "\n",
        "O código a seguir realiza essa separação:"
      ],
      "metadata": {
        "id": "Ys8-iOdSXgdx"
      }
    },
    {
      "cell_type": "code",
      "source": [
        "# Para os treinos\n",
        "# Variáveis independentes (X) e\n",
        "X_train = strat_train_set.drop(\"charges\", axis=1)\n",
        "# Variável dependente/target (y)\n",
        "y_train = strat_train_set[\"charges\"].copy()\n",
        "\n",
        "# Para os testes\n",
        "# Variáveis independentes (X) e\n",
        "X_test = strat_test_set.drop(\"charges\", axis=1)\n",
        "# Variável dependente/target (y)\n",
        "y_test = strat_test_set[\"charges\"].copy()"
      ],
      "metadata": {
        "id": "JaJODRMGWmsL"
      },
      "execution_count": 9,
      "outputs": []
    },
    {
      "cell_type": "markdown",
      "source": [
        "## **Padronização dos dados**"
      ],
      "metadata": {
        "id": "2UKdxutw5kxv"
      }
    },
    {
      "cell_type": "markdown",
      "source": [
        "Por fim, a padronização de dados. Esse procedimento é uma etapa crucial no pré-processamento pois garante que as variáveis numéricas do conjunto de dados estejam na mesma escala, sendo particularmente importante para modelos de regressão, pois discrepâncias nas escalas entre variáveis podem interferir nos resultados e na convergência do modelo.\n",
        "\n",
        "Para aplicá-lo, utiliza-se a técnica de StandardScaler, que transforma as variáveis para terem média zero e desvio padrão unitário, mantendo assim a estrutura das distribuições dos dados originais.\n",
        "\n",
        "Após as etapas de limpeza de dados nulos, tratamento de valores textuais, estratificação e separação dos dados em treino e teste, conforme descrito anteriormente, o StandardScaler é aplicado para garantir uma escala consistente entre as variáveis independentes (X_train e X_test).\n",
        "\n",
        "Abaixo, demonstramos como essa padronização é realizada:"
      ],
      "metadata": {
        "id": "XgMICez6M6Tg"
      }
    },
    {
      "cell_type": "code",
      "source": [
        "from sklearn.preprocessing import StandardScaler\n",
        "\n",
        "scaler = StandardScaler()\n",
        "X_train_scaled = scaler.fit_transform(X_train)\n",
        "X_test_scaled = scaler.transform(X_test)"
      ],
      "metadata": {
        "id": "MACCN4DC5wAj"
      },
      "execution_count": 10,
      "outputs": []
    },
    {
      "cell_type": "markdown",
      "source": [
        "# **MODELAGEM**\n",
        "Agora que os dados foram devidamente preparados, passa-se à etapa de modelagem.\n",
        "\n",
        "O objetivo desta fase é desenvolver um modelo preditivo que seja capaz de estimar os custos médicos com base nas variáveis disponíveis.\n"
      ],
      "metadata": {
        "id": "u4DTP17sWpXB"
      }
    },
    {
      "cell_type": "markdown",
      "source": [
        "## **Regressão Linear**\n",
        "A Regressão Linear é uma técnica estatística e de aprendizado supervisionado usada para modelar a relação entre uma variável dependente contínua (ou variável-alvo) e uma ou mais variáveis independentes (ou preditoras). Essa abordagem assume que existe uma relação linear entre as variáveis, o que significa que a variável dependente pode ser expressa como uma combinação linear das variáveis independentes, mais um termo de erro.\n",
        "\n",
        "No caso de uma Regressão Linear Simples, há uma única variável preditora, e a relação é representada por uma linha reta que minimiza a soma dos erros quadráticos (ou resíduos) entre os valores previstos e os valores reais. Já em uma Regressão Linear Múltipla, o modelo incorpora diversas variáveis independentes, permitindo capturar relações mais complexas entre os fatores que afetam a variável dependente.\n",
        "\n",
        "Neste projeto, será utilizado o modelo de Regressão Linear fornecido pela biblioteca scikit-learn, que será ajustado aos dados para prever os custos de seguro com base nas variáveis preditoras selecionadas:"
      ],
      "metadata": {
        "id": "u4hMIMypT3IE"
      }
    },
    {
      "cell_type": "code",
      "source": [
        "from sklearn.linear_model import LinearRegression\n",
        "model = LinearRegression()"
      ],
      "metadata": {
        "id": "KvNE8gs3YsFK"
      },
      "execution_count": 11,
      "outputs": []
    },
    {
      "cell_type": "markdown",
      "source": [
        "# **TREINAMENTO E AVALIAÇÃO DO MODELO**\n",
        "Nesta etapa, o modelo de Regressão Linear será ajustado aos dados e submetido a testes para avaliar sua precisão. O conjunto de dados de treino será utilizado para o aprendizado dos parâmetros, enquanto o conjunto de teste permitirá validar sua capacidade preditiva.\n",
        "\n",
        "A seguir, são apresentados os processos de treinamento, teste e avaliação, com métricas específicas para medir a eficácia do modelo."
      ],
      "metadata": {
        "id": "DV5xpTtCY5NW"
      }
    },
    {
      "cell_type": "markdown",
      "source": [
        "## **Treinamento**\n",
        "O treinamento do modelo é o processo em que ele aprende a partir dos dados de treino ajustados e escalados para identificar a relação entre as variáveis independentes e a variável dependente.\n",
        "\n",
        "Neste caso, o modelo de Regressão Linear será treinado com os dados escalados (X_train_scaled), ajustando seus parâmetros para minimizar o erro na previsão dos valores de y_train, que representam os custos de seguro.\n",
        "\n",
        "Abaixo, o código realiza o treinamento, ajustando o modelo aos dados de entrada:"
      ],
      "metadata": {
        "id": "UZQP7WiwZCR3"
      }
    },
    {
      "cell_type": "code",
      "source": [
        "model.fit(X_train_scaled, y_train)\n"
      ],
      "metadata": {
        "colab": {
          "base_uri": "https://localhost:8080/",
          "height": 80
        },
        "id": "RS9Uh5saZHlN",
        "outputId": "e3b313d2-3984-4d5f-e739-610c9b2c768c"
      },
      "execution_count": 12,
      "outputs": [
        {
          "output_type": "execute_result",
          "data": {
            "text/plain": [
              "LinearRegression()"
            ],
            "text/html": [
              "<style>#sk-container-id-1 {\n",
              "  /* Definition of color scheme common for light and dark mode */\n",
              "  --sklearn-color-text: black;\n",
              "  --sklearn-color-line: gray;\n",
              "  /* Definition of color scheme for unfitted estimators */\n",
              "  --sklearn-color-unfitted-level-0: #fff5e6;\n",
              "  --sklearn-color-unfitted-level-1: #f6e4d2;\n",
              "  --sklearn-color-unfitted-level-2: #ffe0b3;\n",
              "  --sklearn-color-unfitted-level-3: chocolate;\n",
              "  /* Definition of color scheme for fitted estimators */\n",
              "  --sklearn-color-fitted-level-0: #f0f8ff;\n",
              "  --sklearn-color-fitted-level-1: #d4ebff;\n",
              "  --sklearn-color-fitted-level-2: #b3dbfd;\n",
              "  --sklearn-color-fitted-level-3: cornflowerblue;\n",
              "\n",
              "  /* Specific color for light theme */\n",
              "  --sklearn-color-text-on-default-background: var(--sg-text-color, var(--theme-code-foreground, var(--jp-content-font-color1, black)));\n",
              "  --sklearn-color-background: var(--sg-background-color, var(--theme-background, var(--jp-layout-color0, white)));\n",
              "  --sklearn-color-border-box: var(--sg-text-color, var(--theme-code-foreground, var(--jp-content-font-color1, black)));\n",
              "  --sklearn-color-icon: #696969;\n",
              "\n",
              "  @media (prefers-color-scheme: dark) {\n",
              "    /* Redefinition of color scheme for dark theme */\n",
              "    --sklearn-color-text-on-default-background: var(--sg-text-color, var(--theme-code-foreground, var(--jp-content-font-color1, white)));\n",
              "    --sklearn-color-background: var(--sg-background-color, var(--theme-background, var(--jp-layout-color0, #111)));\n",
              "    --sklearn-color-border-box: var(--sg-text-color, var(--theme-code-foreground, var(--jp-content-font-color1, white)));\n",
              "    --sklearn-color-icon: #878787;\n",
              "  }\n",
              "}\n",
              "\n",
              "#sk-container-id-1 {\n",
              "  color: var(--sklearn-color-text);\n",
              "}\n",
              "\n",
              "#sk-container-id-1 pre {\n",
              "  padding: 0;\n",
              "}\n",
              "\n",
              "#sk-container-id-1 input.sk-hidden--visually {\n",
              "  border: 0;\n",
              "  clip: rect(1px 1px 1px 1px);\n",
              "  clip: rect(1px, 1px, 1px, 1px);\n",
              "  height: 1px;\n",
              "  margin: -1px;\n",
              "  overflow: hidden;\n",
              "  padding: 0;\n",
              "  position: absolute;\n",
              "  width: 1px;\n",
              "}\n",
              "\n",
              "#sk-container-id-1 div.sk-dashed-wrapped {\n",
              "  border: 1px dashed var(--sklearn-color-line);\n",
              "  margin: 0 0.4em 0.5em 0.4em;\n",
              "  box-sizing: border-box;\n",
              "  padding-bottom: 0.4em;\n",
              "  background-color: var(--sklearn-color-background);\n",
              "}\n",
              "\n",
              "#sk-container-id-1 div.sk-container {\n",
              "  /* jupyter's `normalize.less` sets `[hidden] { display: none; }`\n",
              "     but bootstrap.min.css set `[hidden] { display: none !important; }`\n",
              "     so we also need the `!important` here to be able to override the\n",
              "     default hidden behavior on the sphinx rendered scikit-learn.org.\n",
              "     See: https://github.com/scikit-learn/scikit-learn/issues/21755 */\n",
              "  display: inline-block !important;\n",
              "  position: relative;\n",
              "}\n",
              "\n",
              "#sk-container-id-1 div.sk-text-repr-fallback {\n",
              "  display: none;\n",
              "}\n",
              "\n",
              "div.sk-parallel-item,\n",
              "div.sk-serial,\n",
              "div.sk-item {\n",
              "  /* draw centered vertical line to link estimators */\n",
              "  background-image: linear-gradient(var(--sklearn-color-text-on-default-background), var(--sklearn-color-text-on-default-background));\n",
              "  background-size: 2px 100%;\n",
              "  background-repeat: no-repeat;\n",
              "  background-position: center center;\n",
              "}\n",
              "\n",
              "/* Parallel-specific style estimator block */\n",
              "\n",
              "#sk-container-id-1 div.sk-parallel-item::after {\n",
              "  content: \"\";\n",
              "  width: 100%;\n",
              "  border-bottom: 2px solid var(--sklearn-color-text-on-default-background);\n",
              "  flex-grow: 1;\n",
              "}\n",
              "\n",
              "#sk-container-id-1 div.sk-parallel {\n",
              "  display: flex;\n",
              "  align-items: stretch;\n",
              "  justify-content: center;\n",
              "  background-color: var(--sklearn-color-background);\n",
              "  position: relative;\n",
              "}\n",
              "\n",
              "#sk-container-id-1 div.sk-parallel-item {\n",
              "  display: flex;\n",
              "  flex-direction: column;\n",
              "}\n",
              "\n",
              "#sk-container-id-1 div.sk-parallel-item:first-child::after {\n",
              "  align-self: flex-end;\n",
              "  width: 50%;\n",
              "}\n",
              "\n",
              "#sk-container-id-1 div.sk-parallel-item:last-child::after {\n",
              "  align-self: flex-start;\n",
              "  width: 50%;\n",
              "}\n",
              "\n",
              "#sk-container-id-1 div.sk-parallel-item:only-child::after {\n",
              "  width: 0;\n",
              "}\n",
              "\n",
              "/* Serial-specific style estimator block */\n",
              "\n",
              "#sk-container-id-1 div.sk-serial {\n",
              "  display: flex;\n",
              "  flex-direction: column;\n",
              "  align-items: center;\n",
              "  background-color: var(--sklearn-color-background);\n",
              "  padding-right: 1em;\n",
              "  padding-left: 1em;\n",
              "}\n",
              "\n",
              "\n",
              "/* Toggleable style: style used for estimator/Pipeline/ColumnTransformer box that is\n",
              "clickable and can be expanded/collapsed.\n",
              "- Pipeline and ColumnTransformer use this feature and define the default style\n",
              "- Estimators will overwrite some part of the style using the `sk-estimator` class\n",
              "*/\n",
              "\n",
              "/* Pipeline and ColumnTransformer style (default) */\n",
              "\n",
              "#sk-container-id-1 div.sk-toggleable {\n",
              "  /* Default theme specific background. It is overwritten whether we have a\n",
              "  specific estimator or a Pipeline/ColumnTransformer */\n",
              "  background-color: var(--sklearn-color-background);\n",
              "}\n",
              "\n",
              "/* Toggleable label */\n",
              "#sk-container-id-1 label.sk-toggleable__label {\n",
              "  cursor: pointer;\n",
              "  display: block;\n",
              "  width: 100%;\n",
              "  margin-bottom: 0;\n",
              "  padding: 0.5em;\n",
              "  box-sizing: border-box;\n",
              "  text-align: center;\n",
              "}\n",
              "\n",
              "#sk-container-id-1 label.sk-toggleable__label-arrow:before {\n",
              "  /* Arrow on the left of the label */\n",
              "  content: \"▸\";\n",
              "  float: left;\n",
              "  margin-right: 0.25em;\n",
              "  color: var(--sklearn-color-icon);\n",
              "}\n",
              "\n",
              "#sk-container-id-1 label.sk-toggleable__label-arrow:hover:before {\n",
              "  color: var(--sklearn-color-text);\n",
              "}\n",
              "\n",
              "/* Toggleable content - dropdown */\n",
              "\n",
              "#sk-container-id-1 div.sk-toggleable__content {\n",
              "  max-height: 0;\n",
              "  max-width: 0;\n",
              "  overflow: hidden;\n",
              "  text-align: left;\n",
              "  /* unfitted */\n",
              "  background-color: var(--sklearn-color-unfitted-level-0);\n",
              "}\n",
              "\n",
              "#sk-container-id-1 div.sk-toggleable__content.fitted {\n",
              "  /* fitted */\n",
              "  background-color: var(--sklearn-color-fitted-level-0);\n",
              "}\n",
              "\n",
              "#sk-container-id-1 div.sk-toggleable__content pre {\n",
              "  margin: 0.2em;\n",
              "  border-radius: 0.25em;\n",
              "  color: var(--sklearn-color-text);\n",
              "  /* unfitted */\n",
              "  background-color: var(--sklearn-color-unfitted-level-0);\n",
              "}\n",
              "\n",
              "#sk-container-id-1 div.sk-toggleable__content.fitted pre {\n",
              "  /* unfitted */\n",
              "  background-color: var(--sklearn-color-fitted-level-0);\n",
              "}\n",
              "\n",
              "#sk-container-id-1 input.sk-toggleable__control:checked~div.sk-toggleable__content {\n",
              "  /* Expand drop-down */\n",
              "  max-height: 200px;\n",
              "  max-width: 100%;\n",
              "  overflow: auto;\n",
              "}\n",
              "\n",
              "#sk-container-id-1 input.sk-toggleable__control:checked~label.sk-toggleable__label-arrow:before {\n",
              "  content: \"▾\";\n",
              "}\n",
              "\n",
              "/* Pipeline/ColumnTransformer-specific style */\n",
              "\n",
              "#sk-container-id-1 div.sk-label input.sk-toggleable__control:checked~label.sk-toggleable__label {\n",
              "  color: var(--sklearn-color-text);\n",
              "  background-color: var(--sklearn-color-unfitted-level-2);\n",
              "}\n",
              "\n",
              "#sk-container-id-1 div.sk-label.fitted input.sk-toggleable__control:checked~label.sk-toggleable__label {\n",
              "  background-color: var(--sklearn-color-fitted-level-2);\n",
              "}\n",
              "\n",
              "/* Estimator-specific style */\n",
              "\n",
              "/* Colorize estimator box */\n",
              "#sk-container-id-1 div.sk-estimator input.sk-toggleable__control:checked~label.sk-toggleable__label {\n",
              "  /* unfitted */\n",
              "  background-color: var(--sklearn-color-unfitted-level-2);\n",
              "}\n",
              "\n",
              "#sk-container-id-1 div.sk-estimator.fitted input.sk-toggleable__control:checked~label.sk-toggleable__label {\n",
              "  /* fitted */\n",
              "  background-color: var(--sklearn-color-fitted-level-2);\n",
              "}\n",
              "\n",
              "#sk-container-id-1 div.sk-label label.sk-toggleable__label,\n",
              "#sk-container-id-1 div.sk-label label {\n",
              "  /* The background is the default theme color */\n",
              "  color: var(--sklearn-color-text-on-default-background);\n",
              "}\n",
              "\n",
              "/* On hover, darken the color of the background */\n",
              "#sk-container-id-1 div.sk-label:hover label.sk-toggleable__label {\n",
              "  color: var(--sklearn-color-text);\n",
              "  background-color: var(--sklearn-color-unfitted-level-2);\n",
              "}\n",
              "\n",
              "/* Label box, darken color on hover, fitted */\n",
              "#sk-container-id-1 div.sk-label.fitted:hover label.sk-toggleable__label.fitted {\n",
              "  color: var(--sklearn-color-text);\n",
              "  background-color: var(--sklearn-color-fitted-level-2);\n",
              "}\n",
              "\n",
              "/* Estimator label */\n",
              "\n",
              "#sk-container-id-1 div.sk-label label {\n",
              "  font-family: monospace;\n",
              "  font-weight: bold;\n",
              "  display: inline-block;\n",
              "  line-height: 1.2em;\n",
              "}\n",
              "\n",
              "#sk-container-id-1 div.sk-label-container {\n",
              "  text-align: center;\n",
              "}\n",
              "\n",
              "/* Estimator-specific */\n",
              "#sk-container-id-1 div.sk-estimator {\n",
              "  font-family: monospace;\n",
              "  border: 1px dotted var(--sklearn-color-border-box);\n",
              "  border-radius: 0.25em;\n",
              "  box-sizing: border-box;\n",
              "  margin-bottom: 0.5em;\n",
              "  /* unfitted */\n",
              "  background-color: var(--sklearn-color-unfitted-level-0);\n",
              "}\n",
              "\n",
              "#sk-container-id-1 div.sk-estimator.fitted {\n",
              "  /* fitted */\n",
              "  background-color: var(--sklearn-color-fitted-level-0);\n",
              "}\n",
              "\n",
              "/* on hover */\n",
              "#sk-container-id-1 div.sk-estimator:hover {\n",
              "  /* unfitted */\n",
              "  background-color: var(--sklearn-color-unfitted-level-2);\n",
              "}\n",
              "\n",
              "#sk-container-id-1 div.sk-estimator.fitted:hover {\n",
              "  /* fitted */\n",
              "  background-color: var(--sklearn-color-fitted-level-2);\n",
              "}\n",
              "\n",
              "/* Specification for estimator info (e.g. \"i\" and \"?\") */\n",
              "\n",
              "/* Common style for \"i\" and \"?\" */\n",
              "\n",
              ".sk-estimator-doc-link,\n",
              "a:link.sk-estimator-doc-link,\n",
              "a:visited.sk-estimator-doc-link {\n",
              "  float: right;\n",
              "  font-size: smaller;\n",
              "  line-height: 1em;\n",
              "  font-family: monospace;\n",
              "  background-color: var(--sklearn-color-background);\n",
              "  border-radius: 1em;\n",
              "  height: 1em;\n",
              "  width: 1em;\n",
              "  text-decoration: none !important;\n",
              "  margin-left: 1ex;\n",
              "  /* unfitted */\n",
              "  border: var(--sklearn-color-unfitted-level-1) 1pt solid;\n",
              "  color: var(--sklearn-color-unfitted-level-1);\n",
              "}\n",
              "\n",
              ".sk-estimator-doc-link.fitted,\n",
              "a:link.sk-estimator-doc-link.fitted,\n",
              "a:visited.sk-estimator-doc-link.fitted {\n",
              "  /* fitted */\n",
              "  border: var(--sklearn-color-fitted-level-1) 1pt solid;\n",
              "  color: var(--sklearn-color-fitted-level-1);\n",
              "}\n",
              "\n",
              "/* On hover */\n",
              "div.sk-estimator:hover .sk-estimator-doc-link:hover,\n",
              ".sk-estimator-doc-link:hover,\n",
              "div.sk-label-container:hover .sk-estimator-doc-link:hover,\n",
              ".sk-estimator-doc-link:hover {\n",
              "  /* unfitted */\n",
              "  background-color: var(--sklearn-color-unfitted-level-3);\n",
              "  color: var(--sklearn-color-background);\n",
              "  text-decoration: none;\n",
              "}\n",
              "\n",
              "div.sk-estimator.fitted:hover .sk-estimator-doc-link.fitted:hover,\n",
              ".sk-estimator-doc-link.fitted:hover,\n",
              "div.sk-label-container:hover .sk-estimator-doc-link.fitted:hover,\n",
              ".sk-estimator-doc-link.fitted:hover {\n",
              "  /* fitted */\n",
              "  background-color: var(--sklearn-color-fitted-level-3);\n",
              "  color: var(--sklearn-color-background);\n",
              "  text-decoration: none;\n",
              "}\n",
              "\n",
              "/* Span, style for the box shown on hovering the info icon */\n",
              ".sk-estimator-doc-link span {\n",
              "  display: none;\n",
              "  z-index: 9999;\n",
              "  position: relative;\n",
              "  font-weight: normal;\n",
              "  right: .2ex;\n",
              "  padding: .5ex;\n",
              "  margin: .5ex;\n",
              "  width: min-content;\n",
              "  min-width: 20ex;\n",
              "  max-width: 50ex;\n",
              "  color: var(--sklearn-color-text);\n",
              "  box-shadow: 2pt 2pt 4pt #999;\n",
              "  /* unfitted */\n",
              "  background: var(--sklearn-color-unfitted-level-0);\n",
              "  border: .5pt solid var(--sklearn-color-unfitted-level-3);\n",
              "}\n",
              "\n",
              ".sk-estimator-doc-link.fitted span {\n",
              "  /* fitted */\n",
              "  background: var(--sklearn-color-fitted-level-0);\n",
              "  border: var(--sklearn-color-fitted-level-3);\n",
              "}\n",
              "\n",
              ".sk-estimator-doc-link:hover span {\n",
              "  display: block;\n",
              "}\n",
              "\n",
              "/* \"?\"-specific style due to the `<a>` HTML tag */\n",
              "\n",
              "#sk-container-id-1 a.estimator_doc_link {\n",
              "  float: right;\n",
              "  font-size: 1rem;\n",
              "  line-height: 1em;\n",
              "  font-family: monospace;\n",
              "  background-color: var(--sklearn-color-background);\n",
              "  border-radius: 1rem;\n",
              "  height: 1rem;\n",
              "  width: 1rem;\n",
              "  text-decoration: none;\n",
              "  /* unfitted */\n",
              "  color: var(--sklearn-color-unfitted-level-1);\n",
              "  border: var(--sklearn-color-unfitted-level-1) 1pt solid;\n",
              "}\n",
              "\n",
              "#sk-container-id-1 a.estimator_doc_link.fitted {\n",
              "  /* fitted */\n",
              "  border: var(--sklearn-color-fitted-level-1) 1pt solid;\n",
              "  color: var(--sklearn-color-fitted-level-1);\n",
              "}\n",
              "\n",
              "/* On hover */\n",
              "#sk-container-id-1 a.estimator_doc_link:hover {\n",
              "  /* unfitted */\n",
              "  background-color: var(--sklearn-color-unfitted-level-3);\n",
              "  color: var(--sklearn-color-background);\n",
              "  text-decoration: none;\n",
              "}\n",
              "\n",
              "#sk-container-id-1 a.estimator_doc_link.fitted:hover {\n",
              "  /* fitted */\n",
              "  background-color: var(--sklearn-color-fitted-level-3);\n",
              "}\n",
              "</style><div id=\"sk-container-id-1\" class=\"sk-top-container\"><div class=\"sk-text-repr-fallback\"><pre>LinearRegression()</pre><b>In a Jupyter environment, please rerun this cell to show the HTML representation or trust the notebook. <br />On GitHub, the HTML representation is unable to render, please try loading this page with nbviewer.org.</b></div><div class=\"sk-container\" hidden><div class=\"sk-item\"><div class=\"sk-estimator fitted sk-toggleable\"><input class=\"sk-toggleable__control sk-hidden--visually\" id=\"sk-estimator-id-1\" type=\"checkbox\" checked><label for=\"sk-estimator-id-1\" class=\"sk-toggleable__label fitted sk-toggleable__label-arrow fitted\">&nbsp;&nbsp;LinearRegression<a class=\"sk-estimator-doc-link fitted\" rel=\"noreferrer\" target=\"_blank\" href=\"https://scikit-learn.org/1.5/modules/generated/sklearn.linear_model.LinearRegression.html\">?<span>Documentation for LinearRegression</span></a><span class=\"sk-estimator-doc-link fitted\">i<span>Fitted</span></span></label><div class=\"sk-toggleable__content fitted\"><pre>LinearRegression()</pre></div> </div></div></div></div>"
            ]
          },
          "metadata": {},
          "execution_count": 12
        }
      ]
    },
    {
      "cell_type": "markdown",
      "source": [
        "## **Teste**\n",
        "Após o treinamento, o modelo é submetido ao conjunto de dados de teste para avaliar sua capacidade preditiva em dados novos, não vistos anteriormente.\n",
        "\n",
        "Nesta etapa, o modelo realiza previsões para a variável dependente y (custos de seguro) com base nos dados de teste escalados (X_test_scaled).\n",
        "\n",
        "Esse procedimento permite medir o desempenho do modelo e identificar sua precisão na previsão dos custos.\n",
        "\n",
        "Abaixo, o código realiza a previsão dos valores de y para o conjunto de teste."
      ],
      "metadata": {
        "id": "kekUrnfzZOnG"
      }
    },
    {
      "cell_type": "code",
      "source": [
        "y_pred = model.predict(X_test_scaled)\n",
        "print(y_pred)"
      ],
      "metadata": {
        "colab": {
          "base_uri": "https://localhost:8080/"
        },
        "id": "B7JcKJf_ZZ69",
        "outputId": "fa06e084-764c-4265-c87d-0bca05b15c43"
      },
      "execution_count": 13,
      "outputs": [
        {
          "output_type": "stream",
          "name": "stdout",
          "text": [
            "[29218.85863606  3687.91553733 13782.84890853  6048.05997291\n",
            " 12606.62205178  7557.89499846 10861.78424578  5277.67981638\n",
            " 26545.49702019 11603.12595157  9732.05293927 12356.69640583\n",
            " 13794.48752935 26836.38595145  2546.66485181 16561.06953165\n",
            " 11365.04446822  8806.06379148  3211.79273694 27427.50539944\n",
            " 11055.75529273 10910.41544071 34844.98693207 12595.63991893\n",
            "  5078.81337328  3927.67953127  1254.84032802  4032.67846039\n",
            " 37496.69021765  2723.11997401  7579.82614797  3555.87651242\n",
            " 27226.333488   10017.18075191  1851.41418592  6346.3033752\n",
            "  7430.63557505 10107.8234113  -1673.34200637 12516.52725526\n",
            "  5582.13811748 40002.1813048  10135.0209698  32368.75654521\n",
            " 32154.5189949  29857.37655164 11304.92607232  -120.40894771\n",
            " 11768.85790475  3901.56040014  8902.58490071 13180.7266277\n",
            " 13469.98079326   918.40048104  7563.79125866 40750.53550429\n",
            "  6374.65823742  1727.0120742  25938.11775504 12110.42057823\n",
            "  2172.79167018  3666.6653458   9307.1532036  23794.8776512\n",
            "  5156.24678439  1628.08826712 27420.40537315 13468.40412453\n",
            "  4327.03385347  4262.6717556   6657.69616702 28281.3446021\n",
            "  3777.70008851 10556.27415407  5453.51798023  7865.90649947\n",
            "  8923.89481106  2254.87053123  6717.71190373  6692.82948625\n",
            "  1471.27436229  3522.86454214  4886.33015643 12889.32632307\n",
            "  6030.25182293  8088.26076745 10689.54606646  5558.61877403\n",
            " 14896.3151141  37262.79244     2709.17569198  5495.43616511\n",
            "  7630.20164232  2167.52347589 26330.03024433 12585.698327\n",
            "  3106.48745839 13006.07827646 12545.64803368  8896.71034187\n",
            " 38685.52994604  8159.02330524 12880.28631892 36035.25163413\n",
            "  6728.23265371  4342.88935392 11258.75833547 29095.23051857\n",
            " 11208.04149485 11009.43753671  6798.50035869 32251.37664256\n",
            "  3840.24190577  9854.84772919  6904.06354264  6725.66945558\n",
            " 11121.22487452 31997.49937758   336.80040114  3452.58134209\n",
            "  5086.53008481 33082.42269649 29824.47739348 10277.40317683\n",
            " 10374.74177488 29187.77052967 26076.39131013 10583.6619286\n",
            " 11101.58069788 12077.18242183  8209.34803217 35731.55139265\n",
            "  8525.00195492 28189.05816726 12334.63965851  2055.40457387\n",
            "  6712.68849343  9101.91168958  5374.02153674  8579.53614145\n",
            " 34621.73984406 40503.86148962 -1318.26630438  5720.9333318\n",
            "  7623.78123227 11278.72637887  4349.54142811  7506.52281007\n",
            " 10376.78508405 14051.14970283 16539.59405299  9169.57775533\n",
            " 13583.83809203  9022.71816485  8704.23362093  7378.0804114\n",
            "  3784.02665057  3006.11157713  2318.28617655 33969.2272072\n",
            " 10196.10849778  3654.18872681  9953.03291976 34589.89384877\n",
            "  2883.39304361 10961.91646333 17298.10103494  7756.62969308\n",
            " 17489.75502941 29217.09759833 29314.805073   35553.66357314\n",
            " 12169.99796155 11109.02773079  8256.37684413 10098.58256382\n",
            "  5369.1775153   3861.28174043 34021.91986343  3909.74092382\n",
            "  7932.76145342  7588.02784599  5856.54385295 14326.98743296\n",
            " 14128.8108174   2512.39050927  4543.86534654 11075.62011211\n",
            " 11080.52187124 32884.07141671  8120.78956734  9872.55450179\n",
            " 39511.91057989 35501.77874017  9526.4475615   7631.91601781\n",
            " 10374.88046901  7034.56142076 10589.68504488 11982.87299133\n",
            "  5158.30111496  8243.29456132 15628.79054527  5439.07600949\n",
            " 14613.78248449  3650.85572147  4211.28871653 31572.94235851\n",
            "  8550.42093485 -1949.88911654  6099.00291646 11147.82681678\n",
            "  3452.17134611 14573.2608512  14530.88439055 10729.29031399\n",
            "  8102.66566836 10613.68525745 14585.64205871 13232.0357584\n",
            " 36823.72374346 13353.52730709 27355.69456656  3751.76218227\n",
            " 14446.43366574  4924.35538408  5626.58073754  4454.00448333\n",
            " 13215.7639673  10270.18887668  8370.18819059 10788.7393795\n",
            " 33523.53779649  2754.78045439  9844.81425479  7042.16380577\n",
            " 10408.33795721  7532.04792256  4413.35784548 12802.21292359\n",
            "  3246.8098263   9886.92198148  5675.78888463 26614.70786414\n",
            "  3276.59615808  5047.21940637  7058.09220815 11091.80562888\n",
            " 36693.61499221 26953.66154463  5311.08093915 14589.35400523\n",
            " 11308.74182552  8534.76557998 39057.73946888 11406.51713519\n",
            " 34800.23659032 15039.37722209 35852.56662614  2036.54035737\n",
            " 16186.10089186  5994.77226316 31100.22440183 34432.22020328\n",
            " 10712.52447618 27343.95454481  7866.11685634 11808.32729928]\n"
          ]
        }
      ]
    },
    {
      "cell_type": "markdown",
      "source": [
        "## **Gráfico de Dispersão: Valores Reais x Valores Previstos**\n",
        "Um gráfico de dispersão permite visualizar o quão próximos os valores previstos estão dos valores reais.\n",
        "\n",
        "Neste gráfico, os pontos representam pares de valores reais e previstos e a linha diagonal indica uma previsão perfeita: quanto mais próximos os pontos estiverem dessa linha, melhor a performance do modelo."
      ],
      "metadata": {
        "id": "k52RXaAyWU0u"
      }
    },
    {
      "cell_type": "code",
      "source": [
        "import matplotlib.pyplot as plt\n",
        "\n",
        "plt.figure(figsize=(10, 6))\n",
        "plt.scatter(y_test, y_pred, alpha=0.6, color='b')\n",
        "plt.plot([y_test.min(), y_test.max()], [y_test.min(), y_test.max()], 'k--', lw=2)\n",
        "plt.xlabel('Valores Reais')\n",
        "plt.ylabel('Valores Preditos')\n",
        "plt.title('Valores Reais vs. Valores Preditos')\n",
        "plt.show()"
      ],
      "metadata": {
        "colab": {
          "base_uri": "https://localhost:8080/",
          "height": 564
        },
        "id": "oPg1cm10Wgyj",
        "outputId": "af18a877-7cc9-4cda-93bd-be770aa21f99"
      },
      "execution_count": 14,
      "outputs": [
        {
          "output_type": "display_data",
          "data": {
            "text/plain": [
              "<Figure size 1000x600 with 1 Axes>"
            ],
            "image/png": "[encoded data removed]"
          },
          "metadata": {}
        }
      ]
    },
    {
      "cell_type": "markdown",
      "source": [
        "## **Gráfico de Resíduos**\n",
        "Um gráfico de resíduos é útil para verificar a distribuição dos erros de previsão (diferença entre valores reais e previstos) em função dos valores previstos.\n",
        "\n",
        "Uma boa distribuição dos resíduos deve ser aleatória ao redor da linha zero, sem padrões evidentes, o que sugere que o modelo capturou bem a variabilidade dos dados."
      ],
      "metadata": {
        "id": "YIQAH7gwW_4l"
      }
    },
    {
      "cell_type": "code",
      "source": [
        "residuos = y_test - y_pred\n",
        "\n",
        "plt.figure(figsize=(10, 6))\n",
        "plt.scatter(y_pred, residuos, alpha=0.6, color='purple')\n",
        "plt.hlines(y=0, xmin=y_pred.min(), xmax=y_pred.max(), color='red', linestyles='dashed')\n",
        "plt.xlabel('Valores Preditos')\n",
        "plt.ylabel('Resíduos')\n",
        "plt.title('Gráfico de Resíduos')\n",
        "plt.show()"
      ],
      "metadata": {
        "colab": {
          "base_uri": "https://localhost:8080/",
          "height": 564
        },
        "id": "JO-TtZbfYZcO",
        "outputId": "d96a5ce5-ddfc-4f68-88da-0945ede064a0"
      },
      "execution_count": 15,
      "outputs": [
        {
          "output_type": "display_data",
          "data": {
            "text/plain": [
              "<Figure size 1000x600 with 1 Axes>"
            ],
            "image/png": "[encoded data removed]"
          },
          "metadata": {}
        }
      ]
    },
    {
      "cell_type": "markdown",
      "source": [
        "## **Avaliação do Modelo**"
      ],
      "metadata": {
        "id": "xQQksKUiZotm"
      }
    },
    {
      "cell_type": "markdown",
      "source": [
        "A avaliação do modelo é uma etapa essencial para validar a precisão e a confiabilidade das previsões realizadas.\n",
        "\n",
        "Nesta análise, utilizaremos métricas como o Erro Quadrático Médio (MSE), o Erro Médio Absoluto (MAE) e o R² Score, que fornecem diferentes perspectivas sobre o desempenho do modelo.\n",
        "\n",
        "1. O MSE mede o erro médio dos quadrados das diferenças entre valores previstos e reais, sendo mais sensível a grandes erros;\n",
        "2. O MAE calcula a média dos erros absolutos, proporcionando uma visão do erro médio em termos de valores reais;\n",
        "3. O R² Score indica a proporção da variância explicada pelo modelo, variando de 0 a 1, onde valores próximos de 1 indicam melhor ajuste."
      ],
      "metadata": {
        "id": "TcsGnvHaQvhT"
      }
    },
    {
      "cell_type": "code",
      "source": [
        "from sklearn.metrics import mean_squared_error, r2_score, mean_absolute_error"
      ],
      "metadata": {
        "id": "sjva8VDFaCFI"
      },
      "execution_count": 16,
      "outputs": []
    },
    {
      "cell_type": "markdown",
      "source": [
        "### **Erro Quadrático Médio**\n",
        "O Erro Quadrático Médio é calculado para avaliar a precisão do modelo, especialmente quanto aos desvios maiores entre os valores previstos e reais.\n"
      ],
      "metadata": {
        "id": "VHfNGFCuZvX0"
      }
    },
    {
      "cell_type": "code",
      "source": [
        "mse = mean_squared_error(y_test, y_pred)\n",
        "print(f'Mean Squared Error (MSE): {mse}')"
      ],
      "metadata": {
        "colab": {
          "base_uri": "https://localhost:8080/"
        },
        "id": "9ya_63ygZ7gl",
        "outputId": "894a19b5-587b-4cb7-a839-87032f1c352e"
      },
      "execution_count": 17,
      "outputs": [
        {
          "output_type": "stream",
          "name": "stdout",
          "text": [
            "Mean Squared Error (MSE): 39577945.058322765\n"
          ]
        }
      ]
    },
    {
      "cell_type": "markdown",
      "source": [
        "Esse valor elevado sugere a presença de diferenças consideráveis entre as previsões e os valores reais de custos, indicando que o modelo ainda apresenta margem para melhoria."
      ],
      "metadata": {
        "id": "h4Jah53yRH4a"
      }
    },
    {
      "cell_type": "markdown",
      "source": [
        "### **Erro Médio Absoluto**\n",
        "O Erro Médio Absoluto fornece uma métrica de fácil interpretação para o erro médio das previsões, pois apresenta o valor do erro em termos reais, sem amplificação quadrática."
      ],
      "metadata": {
        "id": "EKuRH_1jaEfs"
      }
    },
    {
      "cell_type": "code",
      "source": [
        "mae = mean_absolute_error(y_test, y_pred)\n",
        "print(f'Mean Absolute Error (MAE): {mae}')"
      ],
      "metadata": {
        "colab": {
          "base_uri": "https://localhost:8080/"
        },
        "id": "SMBtG3UEaKt0",
        "outputId": "b880ba87-7784-42ec-eac7-0c7f74818c50"
      },
      "execution_count": 18,
      "outputs": [
        {
          "output_type": "stream",
          "name": "stdout",
          "text": [
            "Mean Absolute Error (MAE): 4304.784028892648\n"
          ]
        }
      ]
    },
    {
      "cell_type": "markdown",
      "source": [
        "Um MAE de 4.304,78 sugere que, em média, o modelo tem uma diferença de aproximadamente 4.300 unidades monetárias entre os valores reais e previstos dos custos de seguro."
      ],
      "metadata": {
        "id": "EqIiEamYRWaz"
      }
    },
    {
      "cell_type": "markdown",
      "source": [
        "### **R² Score**\n",
        "O R² Score avalia o grau de ajuste do modelo em relação aos dados, mostrando a proporção da variação dos dados explicada pelo modelo."
      ],
      "metadata": {
        "id": "eA_3pwdSaSeG"
      }
    },
    {
      "cell_type": "code",
      "source": [
        "r2 = r2_score(y_test, y_pred)\n",
        "print(f'R² Score: {r2}')"
      ],
      "metadata": {
        "colab": {
          "base_uri": "https://localhost:8080/"
        },
        "id": "gSutBqQwaWj2",
        "outputId": "6dacc88a-7c2d-4a50-d57a-1d10677ebd5c"
      },
      "execution_count": 19,
      "outputs": [
        {
          "output_type": "stream",
          "name": "stdout",
          "text": [
            "R² Score: 0.7031007204351096\n"
          ]
        }
      ]
    },
    {
      "cell_type": "markdown",
      "source": [
        "Um R² Score de 0,703 sugere que aproximadamente 70,3% da variância dos custos de seguro pode ser explicada pelas variáveis independentes utilizadas no modelo."
      ],
      "metadata": {
        "id": "pNpAKAVAR_ZR"
      }
    },
    {
      "cell_type": "markdown",
      "source": [
        "# **VALIDAÇÕES ESTATÍSTICAS**\n",
        "Para garantir a robustez e a precisão do modelo de regressão linear, é fundamental realizar uma validação estatística, o que permite interpretar o impacto das variáveis preditoras sobre a variável-alvo e avaliar a qualidade do ajuste do modelo.\n",
        "\n",
        "Utilizando as ferramentas da biblioteca statsmodels, pode-se obter uma visão mais aprofundada sobre a significância de cada variável, os coeficientes estimados e o desempenho geral do modelo."
      ],
      "metadata": {
        "id": "zZdVPijtZeoI"
      }
    },
    {
      "cell_type": "markdown",
      "source": [
        "## **Configuração do Modelo de Regressão Linear com `statsmodels`**\n",
        "Para a validação estatística, o conjunto de dados de treino é preparado ao adicionar uma constante, que representa o termo de interceptação, utilizando a função add_constant() de statsmodels.\n",
        "\n",
        "Esse procedimento garante que o modelo inclua uma interceptação, essencial para ajustar adequadamente o modelo às variáveis independentes.\n",
        "\n",
        "Em seguida, as informações do conjunto de dados preparado são exibidas para verificação."
      ],
      "metadata": {
        "id": "y-CkIXcQUMhO"
      }
    },
    {
      "cell_type": "code",
      "source": [
        "import statsmodels.api as sm\n",
        "\n",
        "# Adicionar uma constante para o termo de interceptação\n",
        "X_train_sm = sm.add_constant(X_train)\n",
        "X_train_sm.info()"
      ],
      "metadata": {
        "colab": {
          "base_uri": "https://localhost:8080/"
        },
        "id": "kZmk6Ykxai83",
        "outputId": "94e60004-37c9-4982-c32b-648ee598111d"
      },
      "execution_count": 20,
      "outputs": [
        {
          "output_type": "stream",
          "name": "stdout",
          "text": [
            "<class 'pandas.core.frame.DataFrame'>\n",
            "Index: 1070 entries, 1218 to 1172\n",
            "Data columns (total 9 columns):\n",
            " #   Column            Non-Null Count  Dtype  \n",
            "---  ------            --------------  -----  \n",
            " 0   const             1070 non-null   float64\n",
            " 1   age               1070 non-null   float64\n",
            " 2   bmi               1070 non-null   float64\n",
            " 3   children          1070 non-null   float64\n",
            " 4   sex_male          1070 non-null   float64\n",
            " 5   smoker_yes        1070 non-null   float64\n",
            " 6   region_northwest  1070 non-null   float64\n",
            " 7   region_southeast  1070 non-null   float64\n",
            " 8   region_southwest  1070 non-null   float64\n",
            "dtypes: float64(9)\n",
            "memory usage: 83.6 KB\n"
          ]
        }
      ]
    },
    {
      "cell_type": "markdown",
      "source": [
        "## **Ajuste e Resumo Estatístico do Modelo**\n",
        "\n",
        "Após a preparação dos dados, o modelo de Regressão Linear é ajustado utilizando a classe OLS (Ordinary Least Squares) de statsmodels, com as variáveis independentes e a variável dependente de treino.\n",
        "\n",
        "O método `fit()` realiza o ajuste, e o método `summary()` gera um relatório estatístico abrangente do modelo.\n",
        "\n",
        "Esse relatório inclui informações essenciais, como coeficientes estimados, valores-p para testes de hipóteses, e métricas de ajuste do modelo, como R-quadrado, fornecendo uma visão detalhada do desempenho e da validade estatística das variáveis no modelo."
      ],
      "metadata": {
        "id": "pKWCF_uCUl4-"
      }
    },
    {
      "cell_type": "code",
      "source": [
        "model_sm = sm.OLS(y_train, X_train_sm).fit()\n",
        "\n",
        "# Resumo estatístico do modelo\n",
        "print(model_sm.summary())"
      ],
      "metadata": {
        "colab": {
          "base_uri": "https://localhost:8080/"
        },
        "id": "w29XrVxcauyL",
        "outputId": "7fe3958f-a6c8-40bf-9b76-a2d190d7b232"
      },
      "execution_count": 21,
      "outputs": [
        {
          "output_type": "stream",
          "name": "stdout",
          "text": [
            "                            OLS Regression Results                            \n",
            "==============================================================================\n",
            "Dep. Variable:                charges   R-squared:                       0.761\n",
            "Model:                            OLS   Adj. R-squared:                  0.759\n",
            "Method:                 Least Squares   F-statistic:                     421.5\n",
            "Date:                Sun, 27 Oct 2024   Prob (F-statistic):          3.95e-323\n",
            "Time:                        00:31:12   Log-Likelihood:                -10825.\n",
            "No. Observations:                1070   AIC:                         2.167e+04\n",
            "Df Residuals:                    1061   BIC:                         2.171e+04\n",
            "Df Model:                           8                                         \n",
            "Covariance Type:            nonrobust                                         \n",
            "====================================================================================\n",
            "                       coef    std err          t      P>|t|      [0.025      0.975]\n",
            "------------------------------------------------------------------------------------\n",
            "const            -1.157e+04   1097.424    -10.539      0.000   -1.37e+04   -9412.713\n",
            "age                242.6446     13.230     18.341      0.000     216.685     268.604\n",
            "bmi                345.6839     31.795     10.872      0.000     283.296     408.071\n",
            "children           478.4098    156.132      3.064      0.002     172.047     784.773\n",
            "sex_male          -232.5869    370.141     -0.628      0.530    -958.878     493.704\n",
            "smoker_yes         2.44e+04    457.176     53.364      0.000    2.35e+04    2.53e+04\n",
            "region_northwest  -390.6916    531.252     -0.735      0.462   -1433.116     651.733\n",
            "region_southeast -1109.9463    527.378     -2.105      0.036   -2144.769     -75.123\n",
            "region_southwest -1147.2294    533.691     -2.150      0.032   -2194.439    -100.019\n",
            "==============================================================================\n",
            "Omnibus:                      234.799   Durbin-Watson:                   2.011\n",
            "Prob(Omnibus):                  0.000   Jarque-Bera (JB):              593.882\n",
            "Skew:                           1.151   Prob(JB):                    1.10e-129\n",
            "Kurtosis:                       5.832   Cond. No.                         313.\n",
            "==============================================================================\n",
            "\n",
            "Notes:\n",
            "[1] Standard Errors assume that the covariance matrix of the errors is correctly specified.\n"
          ]
        }
      ]
    },
    {
      "cell_type": "markdown",
      "source": [
        "Este resultado da regressão OLS oferece várias informações úteis e insights sobre os fatores que influenciam a variável dependente (charges), na amostra de dados, tais como:\n",
        "\n",
        "### 1. **Coeficiente de Determinação (R² e R² Ajustado)**  \n",
        "   - **R² = 0.761** indica que aproximadamente 76,1% da variação nos custos de seguro (`charges`) é explicada pelo modelo, sugerindo um bom ajuste aos dados.\n",
        "   - **R² Ajustado = 0.759** reflete o mesmo resultado, considerando a complexidade do modelo, o que é um bom indicativo de que o modelo está equilibrado entre explicação e simplicidade, sem ter excesso de variáveis irrelevantes.\n",
        "\n",
        "### 2. **Significância Estatística das Variáveis (P>|t|)**  \n",
        "   - O valor `P>|t|` indica se os coeficientes das variáveis independentes são estatisticamente significativos para prever `charges`. Valores menores que 0,05 geralmente sugerem relevância estatística:\n",
        "      - **Variáveis Significativas**: `age`, `bmi`, `children`, `smoker_yes`, `region_southeast`, `region_southwest` têm p-valores abaixo de 0,05, indicando que elas contribuem significativamente para prever os custos do seguro.\n",
        "      - **Variáveis Não Significativas**: `sex_male`, `region_northwest` não são estatisticamente relevantes (p-valor > 0,05), sugerindo que seu impacto no custo é provavelmente pequeno ou inconsistente na amostra.\n",
        "\n",
        "### 3. **Interpretação dos Coeficientes**  \n",
        "   - **Intercepto (const)**: -11.570 sugere que o valor esperado de `charges` é negativo quando todas as variáveis explicativas são zero, o que não faz sentido prático, mas indica que o modelo requer uma combinação específica de variáveis para um valor significativo.\n",
        "   - **age**: Um coeficiente de `242.6446` sugere que, em média, para cada ano adicional de idade, o custo do seguro aumenta em aproximadamente 242 unidades, mantendo as outras variáveis constantes.\n",
        "   - **bmi**: O coeficiente de `345.6839` indica que um aumento unitário no índice de massa corporal (IMC) está associado a um aumento de cerca de 346 unidades no custo do seguro.\n",
        "   - **smoker_yes**: O coeficiente de `2.44e+04` reflete o grande aumento no custo associado ao tabagismo, indicando que fumantes pagam em média 24.400 unidades a mais em seguro.\n",
        "   - **Região**: As regiões `southeast` e `southwest` têm coeficientes negativos, sugerindo que moradores dessas regiões pagam menos, em média, que aqueles de outras regiões.\n",
        "\n",
        "### 4. **Estatísticas de Diagnóstico do Modelo**  \n",
        "   - **Omnibus e Jarque-Bera**: Ambos os testes indicam a presença de **assimetria e curtose** na distribuição dos resíduos, o que sugere que os resíduos não seguem uma distribuição normal, possivelmente impactando a eficiência do modelo.\n",
        "   - **Durbin-Watson**: Com um valor próximo de 2, não há indícios de autocorrelação nos resíduos, o que é positivo para a suposição de independência.\n",
        "\n",
        "### 5. **Possíveis Ajustes e Melhorias**  \n",
        "   - **Variáveis Categóricas Adicionais**: É possível que algumas das variáveis categóricas, como `sex_male` e `region_northwest`, não estejam contribuindo substancialmente e possam ser eliminadas, simplificando o modelo.\n",
        "   - **Análise de Resíduos**: Devido aos testes de normalidade, uma transformação dos dados, como logaritmo em `charges`, pode ser útil para melhorar a distribuição dos resíduos e fortalecer o ajuste do modelo.\n",
        "   - **Outliers e Regularização**: Dado o valor elevado de `charges` em fumantes, uma análise de outliers ou a aplicação de técnicas de regularização como Ridge ou Lasso pode contribuir para ajustar o modelo de maneira mais robusta.\n"
      ],
      "metadata": {
        "id": "CuKGeikBVo6s"
      }
    }
  ]
}